{
  "cells": [
    {
      "cell_type": "code",
      "execution_count": null,
      "metadata": {
        "collapsed": false
      },
      "outputs": [],
      "source": [
        "%matplotlib inline"
      ]
    },
    {
      "cell_type": "markdown",
      "metadata": {},
      "source": [
        "\n============================================================================\nExample: decorating specified methods of a custom class with timer decorator\n============================================================================\n\nThis example shows how to decorate methods of a custom class with a timer\ndecorator.\n\n\n"
      ]
    },
    {
      "cell_type": "code",
      "execution_count": null,
      "metadata": {
        "collapsed": false
      },
      "outputs": [],
      "source": [
        "import time\n\nfrom pydeco import MethodsDecorator"
      ]
    },
    {
      "cell_type": "markdown",
      "metadata": {},
      "source": [
        "Create timer decorator\n\n"
      ]
    },
    {
      "cell_type": "code",
      "execution_count": null,
      "metadata": {
        "collapsed": false
      },
      "outputs": [],
      "source": [
        "class Timer(object):\n    \"\"\"Timer decorator.\"\"\"\n\n    def __init__(self, *args, **kwargs):\n        pass\n\n    def __call__(self, f):\n        \"\"\"Call function.\"\"\"\n        def wrapped_f(instance, *args, **kwargs):\n            \"\"\"Wrap input instance method with runtime measurement.\"\"\"\n            ts = time.time()\n            result = f(instance, *args, **kwargs)\n            te = time.time()\n            print('[Log] runtime {!r} : {:2.2f} ms\\n'.format(\n                f.__name__, (te - ts) * 1000))\n            return result\n        return wrapped_f"
      ]
    },
    {
      "cell_type": "markdown",
      "metadata": {},
      "source": [
        "Create custom class and decorate some of its methods with :class:`Timer`\n\n"
      ]
    },
    {
      "cell_type": "code",
      "execution_count": null,
      "metadata": {
        "collapsed": false
      },
      "outputs": [],
      "source": [
        "@MethodsDecorator(mapping={Timer(): ['method_1', 'method_2']})\nclass MyClass():\n    \"\"\"Custom class.\"\"\"\n\n    def __init__(self, *args, **kwargs):\n        pass\n\n    def method_1(self, sleep=.01, **kwargs):\n        print('Running \\'method_1\\' (sleep {:2.2f} ms)'.format(sleep * 1000))\n        time.sleep(sleep)\n\n    def method_2(self, sleep=.02, **kwargs):\n        print('Running \\'method_2\\' (sleep {:2.2f} ms)'.format(sleep * 1000))\n        time.sleep(sleep)\n\n    def method_3(self, sleep=.03, **kwargs):\n        print('Running \\'method_3\\' (sleep {:2.2f} ms)'.format(sleep * 1000))\n        time.sleep(sleep)"
      ]
    },
    {
      "cell_type": "markdown",
      "metadata": {},
      "source": [
        "Test\n\n"
      ]
    },
    {
      "cell_type": "code",
      "execution_count": null,
      "metadata": {
        "collapsed": false
      },
      "outputs": [],
      "source": [
        "# instantiate the class\ninstance = MyClass()\n\n# run methods\ninstance.method_1()\ninstance.method_2()\ninstance.method_3()"
      ]
    }
  ],
  "metadata": {
    "kernelspec": {
      "display_name": "Python 3",
      "language": "python",
      "name": "python3"
    },
    "language_info": {
      "codemirror_mode": {
        "name": "ipython",
        "version": 3
      },
      "file_extension": ".py",
      "mimetype": "text/x-python",
      "name": "python",
      "nbconvert_exporter": "python",
      "pygments_lexer": "ipython3",
      "version": "3.6.7"
    }
  },
  "nbformat": 4,
  "nbformat_minor": 0
}
{
  "cells": [
    {
      "cell_type": "code",
      "execution_count": null,
      "metadata": {
        "collapsed": false
      },
      "outputs": [],
      "source": [
        "%matplotlib inline"
      ]
    },
    {
      "cell_type": "markdown",
      "metadata": {},
      "source": [
        "\n==============================================================================\nExample: decorating specified methods of a custom class with custom decorators\n==============================================================================\n\nThis example shows how to decorate methods of a custom class with custom\ndecorators.\n\n\n"
      ]
    },
    {
      "cell_type": "code",
      "execution_count": null,
      "metadata": {
        "collapsed": false
      },
      "outputs": [],
      "source": [
        "from pydeco import MethodsDecorator"
      ]
    },
    {
      "cell_type": "markdown",
      "metadata": {},
      "source": [
        "Create custom decorators\n\n"
      ]
    },
    {
      "cell_type": "code",
      "execution_count": null,
      "metadata": {
        "collapsed": false
      },
      "outputs": [],
      "source": [
        "class Decorator1(object):\n    \"\"\"Decorator 1.\"\"\"\n\n    def __init__(self, *args, **kwargs):\n        pass\n\n    def __call__(self, f):\n        \"\"\"Call function.\"\"\"\n        def wrapped_f(instance, *args, **kwargs):\n            \"\"\"Wrap input instance method with the herebelow code.\"\"\"\n            print('[Decorator 1] -> decorating...')\n            return f(instance, *args, **kwargs)\n        return wrapped_f\n\n\nclass Decorator2(object):\n    \"\"\"Decorator 2.\"\"\"\n\n    def __init__(self, *args, **kwargs):\n        pass\n\n    def __call__(self, f):\n        \"\"\"Call function.\"\"\"\n        def wrapped_f(instance, *args, **kwargs):\n            \"\"\"Wrap input instance method with the herebelow code.\"\"\"\n            print('[Decorator 2] -> decorating...')\n            return f(instance, *args, **kwargs)\n        return wrapped_f"
      ]
    },
    {
      "cell_type": "markdown",
      "metadata": {},
      "source": [
        "Create custom class\n\n"
      ]
    },
    {
      "cell_type": "code",
      "execution_count": null,
      "metadata": {
        "collapsed": false
      },
      "outputs": [],
      "source": [
        "class MyClass():\n    \"\"\"Custom class.\"\"\"\n\n    def __init__(self, *args, **kwargs):\n        pass\n\n    def method_1(self, *args, **kwargs):\n        print('Run method 1')\n\n    def method_2(self, *args, **kwargs):\n        print('Run method 2')\n\n    def method_3(self, *args, **kwargs):\n        print('Run method 3')"
      ]
    },
    {
      "cell_type": "markdown",
      "metadata": {},
      "source": [
        "Test\n\n"
      ]
    },
    {
      "cell_type": "code",
      "execution_count": null,
      "metadata": {
        "collapsed": false
      },
      "outputs": [],
      "source": [
        "# Without decorators\n# -----------------------------------------------------------------------------\n\n# instantiate the class\ninstance = MyClass()\n\n# run methods\ninstance.method_1()\ninstance.method_2()\ninstance.method_3()\n\n# With decorators for the respective methods\n# -----------------------------------------------------------------------------\n\n# decorate the class\nMyClass_deco = MethodsDecorator(\n    mapping={\n        Decorator1(): ['method_1', 'method_2'],\n        Decorator2(): ['method_1', 'method_3']\n    })(MyClass)\n\n# instantiate the class\ninstance = MyClass_deco()\n\n# run methods\ninstance.method_1()\ninstance.method_2()\ninstance.method_3()"
      ]
    }
  ],
  "metadata": {
    "kernelspec": {
      "display_name": "Python 3",
      "language": "python",
      "name": "python3"
    },
    "language_info": {
      "codemirror_mode": {
        "name": "ipython",
        "version": 3
      },
      "file_extension": ".py",
      "mimetype": "text/x-python",
      "name": "python",
      "nbconvert_exporter": "python",
      "pygments_lexer": "ipython3",
      "version": "3.6.7"
    }
  },
  "nbformat": 4,
  "nbformat_minor": 0
}